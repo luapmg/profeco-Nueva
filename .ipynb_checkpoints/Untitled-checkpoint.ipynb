{
 "cells": [
  {
   "cell_type": "code",
   "execution_count": 1,
   "metadata": {},
   "outputs": [],
   "source": [
    "from multiprocessing import Process, Queue"
   ]
  },
  {
   "cell_type": "code",
   "execution_count": 2,
   "metadata": {},
   "outputs": [],
   "source": [
    "with open('/home/paul/Documentos/Nuevas Tablas Profeco 2016/xxx/all_milk_xxx.csv', 'r', encoding='utf8') as file:\n",
    "    texto = file.readlines()"
   ]
  },
  {
   "cell_type": "code",
   "execution_count": 4,
   "metadata": {},
   "outputs": [],
   "source": [
    "division = int(len(texto)/10)"
   ]
  },
  {
   "cell_type": "code",
   "execution_count": 5,
   "metadata": {},
   "outputs": [
    {
     "data": {
      "text/plain": [
       "208997"
      ]
     },
     "execution_count": 5,
     "metadata": {},
     "output_type": "execute_result"
    }
   ],
   "source": [
    "division"
   ]
  },
  {
   "cell_type": "code",
   "execution_count": 6,
   "metadata": {},
   "outputs": [],
   "source": [
    "texto1 = texto[0:division]\n",
    "texto2 = texto[division:division*2]\n",
    "texto3 = texto[division*2:division*3]\n",
    "texto4 = texto[division*3:division*4]\n",
    "texto5 = texto[division*4:division*5]\n",
    "texto6 = texto[division*5:division*6]\n",
    "texto7 = texto[division*6:division*7]\n",
    "texto8 = texto[division*7:division*8]\n",
    "texto9 = texto[division*8:division*9]\n",
    "texto10 = texto[division*9:]"
   ]
  },
  {
   "cell_type": "code",
   "execution_count": 7,
   "metadata": {},
   "outputs": [],
   "source": [
    "def buscar_colonia1(text):\n",
    "    #print('aqui andamos')\n",
    "    global errores\n",
    "    global colonia\n",
    "    if text.find('COL.') != -1:\n",
    "        #print('entro la primera')\n",
    "        start = text.find('COL.')\n",
    "        if text[start:].find('CP.') != -1:\n",
    "            end = text[start:].find('CP.')\n",
    "            col = text[start:start+end-1]\n",
    "            colonia.append(col)\n",
    "            #print('entro cp')\n",
    "        elif text[start:].find('\"') != -1:\n",
    "            end = text[start:].find('\"')\n",
    "            col = text[start:start+end]\n",
    "            colonia.append(col)\n",
    "            #print('entro \"')\n",
    "        else:\n",
    "            errores += 1"
   ]
  },
  {
   "cell_type": "code",
   "execution_count": 8,
   "metadata": {},
   "outputs": [],
   "source": [
    "#auc = 'paul'\n",
    "#auc2 = 'paul'\n",
    "#count = 0\n",
    "def buscar1(text):\n",
    "    #global auc,count, auc2\n",
    "    #print('hola')\n",
    "    aux = 0\n",
    "    texto = ''.join(text)\n",
    "    while texto[aux:].find('\\n') != -1:\n",
    "        endLine = texto[aux:].find('\\n')\n",
    "        #if count == 2:\n",
    "            #auc = texto[endLine:endLine+2]\n",
    "            #auc2 = texto[endLine+1:]\n",
    "        #print('end--->',endLine)\n",
    "        line = texto[aux:aux + endLine]\n",
    "        #print(line)\n",
    "        buscar_colonia(line)\n",
    "        aux = aux + endLine+1\n",
    "        #count += 1\n",
    "        #print(aux)"
   ]
  },
  {
   "cell_type": "code",
   "execution_count": 9,
   "metadata": {},
   "outputs": [],
   "source": [
    "def buscar_colonia2(q,text):\n",
    "    errores = 0\n",
    "    if text.find('COL.') != -1:\n",
    "        start = text.find('COL.')\n",
    "        if text[start:].find('CP.') != -1:\n",
    "            end = text[start:].find('CP.')\n",
    "            col = text[start:start+end-1]\n",
    "            colonia.append(col)\n",
    "        elif text[start:].find('\"') != -1:\n",
    "            end = text[start:].find('\"')\n",
    "            col = text[start:start+end]\n",
    "            colonia.append(col)\n",
    "        else:\n",
    "            errores += 1\n",
    "    q.put(colonia, errores)"
   ]
  },
  {
   "cell_type": "code",
   "execution_count": 10,
   "metadata": {},
   "outputs": [],
   "source": [
    "def buscar2(q,text):\n",
    "    aux = 0\n",
    "    texto = ''.join(text)\n",
    "    while texto[aux:].find('\\n') != -1:\n",
    "        endLine = texto[aux:].find('\\n')\n",
    "        line = texto[aux:aux + endLine]\n",
    "        buscar_colonia2(line)\n",
    "        aux = aux + endLine+1"
   ]
  },
  {
   "cell_type": "code",
   "execution_count": 11,
   "metadata": {},
   "outputs": [],
   "source": [
    "def buscar_colonia3(q,text):\n",
    "    errores = 0\n",
    "    if text.find('COL.') != -1:\n",
    "        start = text.find('COL.')\n",
    "        if text[start:].find('CP.') != -1:\n",
    "            end = text[start:].find('CP.')\n",
    "            col = text[start:start+end-1]\n",
    "            colonia.append(col)\n",
    "        elif text[start:].find('\"') != -1:\n",
    "            end = text[start:].find('\"')\n",
    "            col = text[start:start+end]\n",
    "            colonia.append(col)\n",
    "        else:\n",
    "            errores += 1\n",
    "    q.put(colonia, errores)"
   ]
  },
  {
   "cell_type": "code",
   "execution_count": 12,
   "metadata": {},
   "outputs": [],
   "source": [
    "def buscar3(q,text):\n",
    "    aux = 0\n",
    "    texto = ''.join(text)\n",
    "    while texto[aux:].find('\\n') != -1:\n",
    "        endLine = texto[aux:].find('\\n')\n",
    "        line = texto[aux:aux + endLine]\n",
    "        buscar_colonia3(line)\n",
    "        aux = aux + endLine+1"
   ]
  },
  {
   "cell_type": "code",
   "execution_count": 13,
   "metadata": {},
   "outputs": [],
   "source": [
    "def buscar_colonia4(q,text):\n",
    "    errores = 0\n",
    "    if text.find('COL.') != -1:\n",
    "        start = text.find('COL.')\n",
    "        if text[start:].find('CP.') != -1:\n",
    "            end = text[start:].find('CP.')\n",
    "            col = text[start:start+end-1]\n",
    "            colonia.append(col)\n",
    "        elif text[start:].find('\"') != -1:\n",
    "            end = text[start:].find('\"')\n",
    "            col = text[start:start+end]\n",
    "            colonia.append(col)\n",
    "        else:\n",
    "            errores += 1\n",
    "    q.put(colonia, errores)"
   ]
  },
  {
   "cell_type": "code",
   "execution_count": 14,
   "metadata": {},
   "outputs": [],
   "source": [
    "def buscar4(q,text):\n",
    "    aux = 0\n",
    "    texto = ''.join(text)\n",
    "    while texto[aux:].find('\\n') != -1:\n",
    "        endLine = texto[aux:].find('\\n')\n",
    "        line = texto[aux:aux + endLine]\n",
    "        buscar_colonia4(line)\n",
    "        aux = aux + endLine+1"
   ]
  },
  {
   "cell_type": "code",
   "execution_count": 15,
   "metadata": {},
   "outputs": [],
   "source": [
    "def buscar_colonia5(q,text):\n",
    "    errores = 0\n",
    "    if text.find('COL.') != -1:\n",
    "        start = text.find('COL.')\n",
    "        if text[start:].find('CP.') != -1:\n",
    "            end = text[start:].find('CP.')\n",
    "            col = text[start:start+end-1]\n",
    "            colonia.append(col)\n",
    "        elif text[start:].find('\"') != -1:\n",
    "            end = text[start:].find('\"')\n",
    "            col = text[start:start+end]\n",
    "            colonia.append(col)\n",
    "        else:\n",
    "            errores += 1\n",
    "    q.put(colonia, errores)"
   ]
  },
  {
   "cell_type": "code",
   "execution_count": 16,
   "metadata": {},
   "outputs": [],
   "source": [
    "def buscar5(q,text):\n",
    "    aux = 0\n",
    "    texto = ''.join(text)\n",
    "    while texto[aux:].find('\\n') != -1:\n",
    "        endLine = texto[aux:].find('\\n')\n",
    "        line = texto[aux:aux + endLine]\n",
    "        buscar_colonia5(line)\n",
    "        aux = aux + endLine+1"
   ]
  },
  {
   "cell_type": "code",
   "execution_count": 17,
   "metadata": {},
   "outputs": [],
   "source": [
    "def buscar_colonia6(q,text):\n",
    "    errores = 0\n",
    "    if text.find('COL.') != -1:\n",
    "        start = text.find('COL.')\n",
    "        if text[start:].find('CP.') != -1:\n",
    "            end = text[start:].find('CP.')\n",
    "            col = text[start:start+end-1]\n",
    "            colonia.append(col)\n",
    "        elif text[start:].find('\"') != -1:\n",
    "            end = text[start:].find('\"')\n",
    "            col = text[start:start+end]\n",
    "            colonia.append(col)\n",
    "        else:\n",
    "            errores += 1\n",
    "    q.put(colonia, errores)"
   ]
  },
  {
   "cell_type": "code",
   "execution_count": 18,
   "metadata": {},
   "outputs": [],
   "source": [
    "def buscar6(q,text):\n",
    "    aux = 0\n",
    "    texto = ''.join(text)\n",
    "    while texto[aux:].find('\\n') != -1:\n",
    "        endLine = texto[aux:].find('\\n')\n",
    "        line = texto[aux:aux + endLine]\n",
    "        buscar_colonia6(line)\n",
    "        aux = aux + endLine+1"
   ]
  },
  {
   "cell_type": "code",
   "execution_count": 19,
   "metadata": {},
   "outputs": [],
   "source": [
    "def buscar_colonia7(q,text):\n",
    "    errores = 0\n",
    "    if text.find('COL.') != -1:\n",
    "        start = text.find('COL.')\n",
    "        if text[start:].find('CP.') != -1:\n",
    "            end = text[start:].find('CP.')\n",
    "            col = text[start:start+end-1]\n",
    "            colonia.append(col)\n",
    "        elif text[start:].find('\"') != -1:\n",
    "            end = text[start:].find('\"')\n",
    "            col = text[start:start+end]\n",
    "            colonia.append(col)\n",
    "        else:\n",
    "            errores += 1\n",
    "    q.put(colonia, errores)"
   ]
  },
  {
   "cell_type": "code",
   "execution_count": 20,
   "metadata": {},
   "outputs": [],
   "source": [
    "def buscar7(q,text):\n",
    "    aux = 0\n",
    "    texto = ''.join(text)\n",
    "    while texto[aux:].find('\\n') != -1:\n",
    "        endLine = texto[aux:].find('\\n')\n",
    "        line = texto[aux:aux + endLine]\n",
    "        buscar_colonia7(line)\n",
    "        aux = aux + endLine+1"
   ]
  },
  {
   "cell_type": "code",
   "execution_count": 21,
   "metadata": {},
   "outputs": [],
   "source": [
    "def buscar_colonia8(q,text):\n",
    "    errores = 0\n",
    "    if text.find('COL.') != -1:\n",
    "        start = text.find('COL.')\n",
    "        if text[start:].find('CP.') != -1:\n",
    "            end = text[start:].find('CP.')\n",
    "            col = text[start:start+end-1]\n",
    "            colonia.append(col)\n",
    "        elif text[start:].find('\"') != -1:\n",
    "            end = text[start:].find('\"')\n",
    "            col = text[start:start+end]\n",
    "            colonia.append(col)\n",
    "        else:\n",
    "            errores += 1\n",
    "    q.put(colonia, errores)"
   ]
  },
  {
   "cell_type": "code",
   "execution_count": 22,
   "metadata": {},
   "outputs": [],
   "source": [
    "def buscar8(q,text):\n",
    "    aux = 0\n",
    "    texto = ''.join(text)\n",
    "    while texto[aux:].find('\\n') != -1:\n",
    "        endLine = texto[aux:].find('\\n')\n",
    "        line = texto[aux:aux + endLine]\n",
    "        buscar_colonia8(line)\n",
    "        aux = aux + endLine+1"
   ]
  },
  {
   "cell_type": "code",
   "execution_count": 23,
   "metadata": {},
   "outputs": [],
   "source": [
    "def buscar_colonia9(q,text):\n",
    "    errores = 0\n",
    "    if text.find('COL.') != -1:\n",
    "        start = text.find('COL.')\n",
    "        if text[start:].find('CP.') != -1:\n",
    "            end = text[start:].find('CP.')\n",
    "            col = text[start:start+end-1]\n",
    "            colonia.append(col)\n",
    "        elif text[start:].find('\"') != -1:\n",
    "            end = text[start:].find('\"')\n",
    "            col = text[start:start+end]\n",
    "            colonia.append(col)\n",
    "        else:\n",
    "            errores += 1\n",
    "    q.put(colonia, errores)"
   ]
  },
  {
   "cell_type": "code",
   "execution_count": 24,
   "metadata": {},
   "outputs": [],
   "source": [
    "def buscar9(q,text):\n",
    "    aux = 0\n",
    "    texto = ''.join(text)\n",
    "    while texto[aux:].find('\\n') != -1:\n",
    "        endLine = texto[aux:].find('\\n')\n",
    "        line = texto[aux:aux + endLine]\n",
    "        buscar_colonia9(line)\n",
    "        aux = aux + endLine+1"
   ]
  },
  {
   "cell_type": "code",
   "execution_count": 25,
   "metadata": {},
   "outputs": [],
   "source": [
    "def buscar_colonia10(q,text):\n",
    "    errores = 0\n",
    "    if text.find('COL.') != -1:\n",
    "        start = text.find('COL.')\n",
    "        if text[start:].find('CP.') != -1:\n",
    "            end = text[start:].find('CP.')\n",
    "            col = text[start:start+end-1]\n",
    "            colonia.append(col)\n",
    "        elif text[start:].find('\"') != -1:\n",
    "            end = text[start:].find('\"')\n",
    "            col = text[start:start+end]\n",
    "            colonia.append(col)\n",
    "        else:\n",
    "            errores += 1\n",
    "    q.put(colonia, errores)"
   ]
  },
  {
   "cell_type": "code",
   "execution_count": 26,
   "metadata": {},
   "outputs": [],
   "source": [
    "def buscar10(q,text):\n",
    "    aux = 0\n",
    "    texto = ''.join(text)\n",
    "    while texto[aux:].find('\\n') != -1:\n",
    "        endLine = texto[aux:].find('\\n')\n",
    "        line = texto[aux:aux + endLine]\n",
    "        buscar_colonia10(line)\n",
    "        aux = aux + endLine+1"
   ]
  },
  {
   "cell_type": "markdown",
   "metadata": {},
   "source": [
    "<b> Corremos las Funcions </b>"
   ]
  },
  {
   "cell_type": "code",
   "execution_count": null,
   "metadata": {},
   "outputs": [
    {
     "name": "stderr",
     "output_type": "stream",
     "text": [
      "Process Process-19:\n",
      "Traceback (most recent call last):\n",
      "  File \"/home/paul/anaconda3/lib/python3.6/multiprocessing/process.py\", line 93, in run\n",
      "    self._target(*self._args, **self._kwargs)\n",
      "  File \"/home/paul/anaconda3/lib/python3.6/multiprocessing/process.py\", line 258, in _bootstrap\n",
      "    self.run()\n",
      "TypeError: buscar1() takes 1 positional argument but 2 were given\n",
      "Process Process-20:\n",
      "Traceback (most recent call last):\n",
      "Process Process-21:\n",
      "  File \"/home/paul/anaconda3/lib/python3.6/multiprocessing/process.py\", line 258, in _bootstrap\n",
      "    self.run()\n",
      "  File \"<ipython-input-10-4a868e17cf17>\", line 7, in buscar2\n",
      "    buscar_colonia2(line)\n",
      "  File \"/home/paul/anaconda3/lib/python3.6/multiprocessing/process.py\", line 258, in _bootstrap\n",
      "    self.run()\n",
      "  File \"/home/paul/anaconda3/lib/python3.6/multiprocessing/process.py\", line 93, in run\n",
      "    self._target(*self._args, **self._kwargs)\n",
      "Traceback (most recent call last):\n",
      "Process Process-22:\n",
      "Traceback (most recent call last):\n",
      "TypeError: buscar_colonia2() missing 1 required positional argument: 'text'\n",
      "  File \"/home/paul/anaconda3/lib/python3.6/multiprocessing/process.py\", line 93, in run\n",
      "    self._target(*self._args, **self._kwargs)\n",
      "  File \"<ipython-input-12-0bb8fddae42e>\", line 7, in buscar3\n",
      "    buscar_colonia3(line)\n",
      "Process Process-23:\n",
      "  File \"/home/paul/anaconda3/lib/python3.6/multiprocessing/process.py\", line 258, in _bootstrap\n",
      "    self.run()\n",
      "TypeError: buscar_colonia3() missing 1 required positional argument: 'text'\n",
      "Traceback (most recent call last):\n",
      "  File \"/home/paul/anaconda3/lib/python3.6/multiprocessing/process.py\", line 93, in run\n",
      "    self._target(*self._args, **self._kwargs)\n",
      "Process Process-24:\n",
      "  File \"/home/paul/anaconda3/lib/python3.6/multiprocessing/process.py\", line 258, in _bootstrap\n",
      "    self.run()\n",
      "  File \"<ipython-input-14-244d94e24023>\", line 7, in buscar4\n",
      "    buscar_colonia4(line)\n",
      "  File \"/home/paul/anaconda3/lib/python3.6/multiprocessing/process.py\", line 93, in run\n",
      "    self._target(*self._args, **self._kwargs)\n",
      "TypeError: buscar_colonia4() missing 1 required positional argument: 'text'\n",
      "Traceback (most recent call last):\n",
      "  File \"<ipython-input-16-45761a90ac8e>\", line 7, in buscar5\n",
      "    buscar_colonia5(line)\n",
      "  File \"/home/paul/anaconda3/lib/python3.6/multiprocessing/process.py\", line 258, in _bootstrap\n",
      "    self.run()\n",
      "TypeError: buscar_colonia5() missing 1 required positional argument: 'text'\n",
      "  File \"/home/paul/anaconda3/lib/python3.6/multiprocessing/process.py\", line 93, in run\n",
      "    self._target(*self._args, **self._kwargs)\n",
      "  File \"<ipython-input-18-e14d55a6e8ed>\", line 7, in buscar6\n",
      "    buscar_colonia6(line)\n",
      "TypeError: buscar_colonia6() missing 1 required positional argument: 'text'\n",
      "Process Process-26:\n",
      "Traceback (most recent call last):\n",
      "  File \"/home/paul/anaconda3/lib/python3.6/multiprocessing/process.py\", line 258, in _bootstrap\n",
      "    self.run()\n",
      "  File \"/home/paul/anaconda3/lib/python3.6/multiprocessing/process.py\", line 93, in run\n",
      "    self._target(*self._args, **self._kwargs)\n",
      "  File \"<ipython-input-22-4414c160512e>\", line 7, in buscar8\n",
      "    buscar_colonia8(line)\n",
      "TypeError: buscar_colonia8() missing 1 required positional argument: 'text'\n",
      "Process Process-27:\n",
      "Traceback (most recent call last):\n",
      "  File \"/home/paul/anaconda3/lib/python3.6/multiprocessing/process.py\", line 258, in _bootstrap\n",
      "    self.run()\n",
      "  File \"/home/paul/anaconda3/lib/python3.6/multiprocessing/process.py\", line 93, in run\n",
      "    self._target(*self._args, **self._kwargs)\n",
      "  File \"<ipython-input-24-64745fe93075>\", line 7, in buscar9\n",
      "    buscar_colonia9(line)\n",
      "TypeError: buscar_colonia9() missing 1 required positional argument: 'text'\n",
      "Process Process-28:\n",
      "Traceback (most recent call last):\n",
      "  File \"/home/paul/anaconda3/lib/python3.6/multiprocessing/process.py\", line 258, in _bootstrap\n",
      "    self.run()\n",
      "  File \"/home/paul/anaconda3/lib/python3.6/multiprocessing/process.py\", line 93, in run\n",
      "    self._target(*self._args, **self._kwargs)\n",
      "  File \"<ipython-input-26-3327b49e411e>\", line 7, in buscar10\n",
      "    buscar_colonia10(line)\n",
      "TypeError: buscar_colonia10() missing 1 required positional argument: 'text'\n"
     ]
    }
   ],
   "source": [
    "if __name__ == '__main__':\n",
    "    colonia1 = []\n",
    "    colonia2 = []\n",
    "    colonia3 = []\n",
    "    colonia4 = []\n",
    "    colonia5 = []\n",
    "    colonia6 = []\n",
    "    colonia7 = []\n",
    "    colonia8 = []\n",
    "    colonia8 = []\n",
    "    colonia10 = []\n",
    "    e1 = 0\n",
    "    e2 = 0\n",
    "    e3 = 0\n",
    "    e4 = 0\n",
    "    e5 = 0\n",
    "    e6 = 0\n",
    "    e7 = 0\n",
    "    e8 = 0\n",
    "    e9 = 0\n",
    "    e10 = 0\n",
    "    q1 = Queue()\n",
    "    q2 = Queue()\n",
    "    q3 = Queue()\n",
    "    q4 = Queue()\n",
    "    q5 = Queue()\n",
    "    q6 = Queue()\n",
    "    q7 = Queue()\n",
    "    q8 = Queue()\n",
    "    q9 = Queue()\n",
    "    q10 = Queue()\n",
    "    p1 = Process(target=buscar1, args=(q1, texto1))\n",
    "    p2 = Process(target=buscar2, args=(q2, texto2))\n",
    "    p3 = Process(target=buscar3, args=(q3, texto3))\n",
    "    p4 = Process(target=buscar4, args=(q4, texto4))\n",
    "    p5 = Process(target=buscar5, args=(q5, texto5))\n",
    "    p6 = Process(target=buscar6, args=(q6, texto6))\n",
    "    p7 = Process(target=buscar7, args=(q7, texto7))\n",
    "    p8 = Process(target=buscar8, args=(q8, texto8))\n",
    "    p9 = Process(target=buscar9, args=(q9, texto9))\n",
    "    p10 = Process(target=buscar10, args=(q10, texto10))\n",
    "    p1.start()\n",
    "    p2.start()\n",
    "    p3.start()\n",
    "    p4.start()\n",
    "    p5.start()\n",
    "    p6.start()\n",
    "    p8.start()\n",
    "    p9.start()\n",
    "    p10.start()\n",
    "    colonia1, e1 = q1.get()\n",
    "    colonia2, e2 = q2.get()\n",
    "    colonia3, e3 = q3.get()\n",
    "    colonia4, e4 = q4.get()\n",
    "    colonia5, e5 = q5.get()\n",
    "    colonia6, e6 = q6.get()\n",
    "    colonia7, e7 = q7.get()\n",
    "    colonia8, e8 = q8.get()\n",
    "    colonia9, e9 = q9.get()\n",
    "    colonia10, e10 = q10.get()\n",
    "    p1.join()\n",
    "    p2.join()\n",
    "    p3.join()\n",
    "    p4.join()\n",
    "    p5.join()\n",
    "    p6.join()\n",
    "    p8.join()\n",
    "    p9.join()\n",
    "    p10.join()\n",
    "    \n",
    "    \n",
    "    \n",
    "buscar(texto)"
   ]
  },
  {
   "cell_type": "markdown",
   "metadata": {},
   "source": [
    "<b> Observamos resultados </b>"
   ]
  },
  {
   "cell_type": "code",
   "execution_count": null,
   "metadata": {
    "scrolled": true
   },
   "outputs": [],
   "source": [
    "len(colonia)"
   ]
  },
  {
   "cell_type": "code",
   "execution_count": null,
   "metadata": {},
   "outputs": [],
   "source": [
    "errores"
   ]
  },
  {
   "cell_type": "code",
   "execution_count": null,
   "metadata": {},
   "outputs": [],
   "source": [
    "file.close()"
   ]
  },
  {
   "cell_type": "code",
   "execution_count": null,
   "metadata": {},
   "outputs": [],
   "source": [
    "q1, q11 = Queue()\n",
    "    q2, q21 = Queue()\n",
    "    q3, q31 = Queue()\n",
    "    q4, q41 = Queue()\n",
    "    q5, q51 = Queue()\n",
    "    q6, q61 = Queue()\n",
    "    q7, q71 = Queue()\n",
    "    q8, q81 = Queue()\n",
    "    q9, q91 = Queue()\n",
    "    q10, q101 = Queue()"
   ]
  }
 ],
 "metadata": {
  "kernelspec": {
   "display_name": "Python 3",
   "language": "python",
   "name": "python3"
  },
  "language_info": {
   "codemirror_mode": {
    "name": "ipython",
    "version": 3
   },
   "file_extension": ".py",
   "mimetype": "text/x-python",
   "name": "python",
   "nbconvert_exporter": "python",
   "pygments_lexer": "ipython3",
   "version": "3.6.4"
  }
 },
 "nbformat": 4,
 "nbformat_minor": 2
}
