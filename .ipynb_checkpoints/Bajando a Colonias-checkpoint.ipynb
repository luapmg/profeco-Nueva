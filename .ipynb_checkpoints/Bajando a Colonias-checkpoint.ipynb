{
 "cells": [
  {
   "cell_type": "code",
   "execution_count": 1,
   "metadata": {},
   "outputs": [],
   "source": [
    "from multiprocessing import Process, Queue"
   ]
  },
  {
   "cell_type": "code",
   "execution_count": 2,
   "metadata": {},
   "outputs": [],
   "source": [
    "with open('/home/paul/Documentos/Nuevas Tablas Profeco 2016/xxx/all_milk_xxx.csv', 'r', encoding='utf8') as file:\n",
    "    texto = file.readlines()"
   ]
  },
  {
   "cell_type": "code",
   "execution_count": 3,
   "metadata": {},
   "outputs": [
    {
     "data": {
      "text/plain": [
       "2089971"
      ]
     },
     "execution_count": 3,
     "metadata": {},
     "output_type": "execute_result"
    }
   ],
   "source": [
    "len(texto)"
   ]
  },
  {
   "cell_type": "code",
   "execution_count": 54,
   "metadata": {},
   "outputs": [],
   "source": [
    "lugar = []\n",
    "colonia = []\n",
    "cp = []\n",
    "error = []\n",
    "countE = 0\n",
    "prueba = texto[0:100]"
   ]
  },
  {
   "cell_type": "code",
   "execution_count": 64,
   "metadata": {},
   "outputs": [],
   "source": [
    "def necesidad(texto):\n",
    "    global errores\n",
    "    global count\n",
    "    global countP\n",
    "    global colonia\n",
    "    global donde\n",
    "    for i, row in enumerate(texto):\n",
    "        #COLONIAS ******************************************************************************\n",
    "        if row.find('COL.') != -1:\n",
    "            start = row.find('COL.')\n",
    "            if row[start:].find('CP.') != -1:\n",
    "                end = row[start:].find('CP.')\n",
    "                col = row[start:start+end-1]\n",
    "                #Lo agregamos a lugar(general) y a colonia\n",
    "                colonia.append(col)\n",
    "                lugar.append(col)\n",
    "            elif row[start:].find('\"') != -1:\n",
    "                end = row[start:].find('\"')\n",
    "                col = row[start:start+end]\n",
    "                #Lo agregamos a lugar(general) y a colonia\n",
    "                colonia.append(col)\n",
    "                lugar.append(col)\n",
    "\n",
    "                \n",
    "            #CODIGOS POSTALES *******************************************************************\n",
    "        elif row.find('CP.') != -1:\n",
    "            start2 = row.find('CP.')\n",
    "            if row[start2:].find('\"') != -1:\n",
    "                end = row[start2:].find('\"')\n",
    "                cp = row[start2:start2+end]\n",
    "                #Lo agregamos a codigo postal y a lugar(general)\n",
    "                cp.append(cp)\n",
    "                lugar.append(col)\n",
    "        else:\n",
    "            #Si no entra ni a colonia ni a cp entonces lo agregamos a errores y a donde, y contamos el error\n",
    "            countE += 1\n",
    "            error.append([countE, i])\n",
    "\n",
    "        \n",
    "    return colonia, errores\n",
    "        \n",
    "       "
   ]
  },
  {
   "cell_type": "code",
   "execution_count": 69,
   "metadata": {},
   "outputs": [],
   "source": [
    "#Restauro los valores de lista de colonias y errores antes de correr la funcion\n",
    "lugar = []\n",
    "colonia = []\n",
    "cp = []\n",
    "error = []\n",
    "countE = 0\n",
    "colonia, errores = necesidad(texto)"
   ]
  },
  {
   "cell_type": "code",
   "execution_count": 70,
   "metadata": {},
   "outputs": [
    {
     "name": "stdout",
     "output_type": "stream",
     "text": [
      "701149\n",
      "1388822\n"
     ]
    }
   ],
   "source": [
    "print(len(colonia))\n",
    "print(errores)"
   ]
  },
  {
   "cell_type": "code",
   "execution_count": 67,
   "metadata": {},
   "outputs": [
    {
     "name": "stdout",
     "output_type": "stream",
     "text": [
      "100\n",
      "0\n"
     ]
    }
   ],
   "source": [
    "print(len(colonia))\n",
    "print(errores)"
   ]
  },
  {
   "cell_type": "code",
   "execution_count": 73,
   "metadata": {},
   "outputs": [
    {
     "name": "stdout",
     "output_type": "stream",
     "text": [
      "[0, 1111]\n",
      "[0, 1112]\n",
      "[0, 1113]\n",
      "[0, 1114]\n",
      "[0, 1115]\n",
      "[0, 1116]\n",
      "[0, 1117]\n",
      "[0, 1118]\n",
      "[0, 1119]\n",
      "[0, 1120]\n",
      "[0, 1121]\n",
      "[0, 1122]\n",
      "[0, 1123]\n",
      "[0, 1124]\n",
      "[0, 1125]\n",
      "[0, 1126]\n",
      "[0, 1127]\n",
      "[0, 1128]\n",
      "[0, 1129]\n",
      "[0, 1130]\n",
      "[0, 1131]\n",
      "[0, 1132]\n",
      "[0, 1133]\n",
      "[0, 1134]\n",
      "[0, 1135]\n",
      "[0, 1136]\n",
      "[0, 1137]\n",
      "[0, 1138]\n",
      "[0, 4395]\n",
      "[0, 4396]\n",
      "[0, 4397]\n",
      "[0, 4398]\n",
      "[0, 4399]\n",
      "[0, 4400]\n",
      "[0, 4401]\n",
      "[0, 4402]\n",
      "[0, 4403]\n",
      "[0, 4404]\n",
      "[0, 4405]\n",
      "[0, 4406]\n",
      "[0, 4407]\n",
      "[0, 4408]\n",
      "[0, 4409]\n",
      "[0, 4410]\n",
      "[0, 4411]\n",
      "[0, 4464]\n",
      "[0, 4465]\n",
      "[0, 4466]\n",
      "[0, 4467]\n",
      "[0, 4468]\n"
     ]
    }
   ],
   "source": [
    "for i in range(0,50):\n",
    "    print(donde[i])"
   ]
  },
  {
   "cell_type": "markdown",
   "metadata": {},
   "source": [
    "<b> Revisamos los Errores </b>"
   ]
  },
  {
   "cell_type": "code",
   "execution_count": 75,
   "metadata": {},
   "outputs": [
    {
     "name": "stdout",
     "output_type": "stream",
     "text": [
      "\"LECHE CONDENSADA\",\"LATA 100 GR.\",\"LA LECHERA\",\"\",\"8.1\",\"2016-04-19 00:00:00\",\"HIPERMERCADO SORIANA\",\"TIENDA DE AUTOSERVICIO\",\"SORIANA HIPER SUCURSAL LAS ROSAS\",\"BLVD. MIGUEL ALEMAN 1495 ESQ. JOSE AGUSTIN CASTRO COL. LAS ROSAS CP. 35090\",\"DURANGO\",\"GÓMEZ PALACIO\"\n",
      "\n",
      "\"LECHE EN POLVO\",\"ENTERA. LATA 1,800 KG.\",\"ALPURA\",\"LECHE PROCESADA\",\"186\",\"2016-04-19 00:00:00\",\"BODEGA AURRERA\",\"TIENDA DE AUTOSERVICIO\",\"BODEGA AURRERA\",\"CENTRAL PONIENTE 677 ENTRE 6A PONIENTE Y 5 PONIENTE CP. 20190\",\"CHIAPAS\",\"TUXTLA GUTIÉRREZ\"\n",
      "\n",
      "\"LECHE EN POLVO\",\"BOLSA 500 GR. (MEZCLA)\",\"FORTILECHE\",\"LECHE PROCESADA\",\"42.5\",\"2016-04-19 00:00:00\",\"BODEGA AURRERA\",\"TIENDA DE AUTOSERVICIO\",\"BODEGA AURRERA\",\"CENTRAL PONIENTE 677 ENTRE 6A PONIENTE Y 5 PONIENTE CP. 20190\",\"CHIAPAS\",\"TUXTLA GUTIÉRREZ\"\n",
      "\n",
      "\"LECHE EN POLVO\",\"NIÑOS. BOLSA 500 GR.  (PRODUCTO LÁCTEO)\",\"ALPURA. KIDS\",\"LECHE PROCESADA\",\"55\",\"2016-04-19 00:00:00\",\"BODEGA AURRERA\",\"TIENDA DE AUTOSERVICIO\",\"BODEGA AURRERA\",\"CENTRAL PONIENTE 677 ENTRE 6A PONIENTE Y 5 PONIENTE CP. 20190\",\"CHIAPAS\",\"TUXTLA GUTIÉRREZ\"\n",
      "\n",
      "\"LECHE EN POLVO\",\"NIÑOS. LATA 1,800 GR.  (PRODUCTO LÁCTEO)\",\"ALPURA. KIDS\",\"LECHE PROCESADA\",\"200\",\"2016-04-19 00:00:00\",\"BODEGA AURRERA\",\"TIENDA DE AUTOSERVICIO\",\"BODEGA AURRERA\",\"CENTRAL PONIENTE 677 ENTRE 6A PONIENTE Y 5 PONIENTE CP. 20190\",\"CHIAPAS\",\"TUXTLA GUTIÉRREZ\"\n",
      "\n",
      "\"LECHE EN POLVO\",\"NIÑOS. LATA 1.6 KG. (PRODUCTO LÁCTEO)\",\"NIDO. KINDER\",\"LECHE PROCESADA\",\"204\",\"2016-04-19 00:00:00\",\"BODEGA AURRERA\",\"TIENDA DE AUTOSERVICIO\",\"BODEGA AURRERA\",\"CENTRAL PONIENTE 677 ENTRE 6A PONIENTE Y 5 PONIENTE CP. 20190\",\"CHIAPAS\",\"TUXTLA GUTIÉRREZ\"\n",
      "\n",
      "\"LECHE EN POLVO\",\"NIÑOS. LATA 360 GR. (PRODUCTO LÁCTEO)\",\"NIDO. KINDER\",\"LECHE PROCESADA\",\"56\",\"2016-04-19 00:00:00\",\"BODEGA AURRERA\",\"TIENDA DE AUTOSERVICIO\",\"BODEGA AURRERA\",\"CENTRAL PONIENTE 677 ENTRE 6A PONIENTE Y 5 PONIENTE CP. 20190\",\"CHIAPAS\",\"TUXTLA GUTIÉRREZ\"\n",
      "\n",
      "\"LECHE EN POLVO\",\"BOLSA 360 GR. (PRODUCTO LÁCTEO)\",\"SVELTY. FIGURA 0%. BAJO EN GRASAS\",\"LECHE PROCESADA\",\"41\",\"2016-04-19 00:00:00\",\"BODEGA AURRERA\",\"TIENDA DE AUTOSERVICIO\",\"BODEGA AURRERA\",\"CENTRAL PONIENTE 677 ENTRE 6A PONIENTE Y 5 PONIENTE CP. 20190\",\"CHIAPAS\",\"TUXTLA GUTIÉRREZ\"\n",
      "\n",
      "\"LECHE EN POLVO\",\"LATA 1.68 KG.\",\"NIDO. ENTERA\",\"LECHE PROCESADA\",\"193\",\"2016-04-19 00:00:00\",\"BODEGA AURRERA\",\"TIENDA DE AUTOSERVICIO\",\"BODEGA AURRERA\",\"CENTRAL PONIENTE 677 ENTRE 6A PONIENTE Y 5 PONIENTE CP. 20190\",\"CHIAPAS\",\"TUXTLA GUTIÉRREZ\"\n",
      "\n",
      "\"LECHE EN POLVO\",\"BOLSA 520 GR.\",\"NIDO. ENTERA\",\"LECHE PROCESADA\",\"62.5\",\"2016-04-19 00:00:00\",\"BODEGA AURRERA\",\"TIENDA DE AUTOSERVICIO\",\"BODEGA AURRERA\",\"CENTRAL PONIENTE 677 ENTRE 6A PONIENTE Y 5 PONIENTE CP. 20190\",\"CHIAPAS\",\"TUXTLA GUTIÉRREZ\"\n",
      "\n",
      "\"LECHE CONDENSADA\",\"LATA 397 GR.\",\"LA LECHERA.\",\"LECHE PROCESADA\",\"16.3\",\"2016-04-19 00:00:00\",\"BODEGA AURRERA\",\"TIENDA DE AUTOSERVICIO\",\"BODEGA AURRERA\",\"CENTRAL PONIENTE 677 ENTRE 6A PONIENTE Y 5 PONIENTE CP. 20190\",\"CHIAPAS\",\"TUXTLA GUTIÉRREZ\"\n",
      "\n",
      "\"LECHE CONDENSADA\",\"LATA 397 GR.\",\"LA LECHERA. LIGHT\",\"LECHE PROCESADA\",\"18.3\",\"2016-04-19 00:00:00\",\"BODEGA AURRERA\",\"TIENDA DE AUTOSERVICIO\",\"BODEGA AURRERA\",\"CENTRAL PONIENTE 677 ENTRE 6A PONIENTE Y 5 PONIENTE CP. 20190\",\"CHIAPAS\",\"TUXTLA GUTIÉRREZ\"\n",
      "\n",
      "\"LECHE PASTEURIZADA\",\"CAJA 1 LT.\",\"LALA. ENTERA\",\"LECHE PROCESADA\",\"15.5\",\"2016-04-19 00:00:00\",\"BODEGA AURRERA\",\"TIENDA DE AUTOSERVICIO\",\"BODEGA AURRERA\",\"CENTRAL PONIENTE 677 ENTRE 6A PONIENTE Y 5 PONIENTE CP. 20190\",\"CHIAPAS\",\"TUXTLA GUTIÉRREZ\"\n",
      "\n",
      "\"LECHE PASTEURIZADA\",\"PARCIALMENTE DESCREMADA. BAJA EN GRASA. CAJA 1 LT.\",\"LALA. LIGHT\",\"LECHE PROCESADA\",\"15\",\"2016-04-19 00:00:00\",\"BODEGA AURRERA\",\"TIENDA DE AUTOSERVICIO\",\"BODEGA AURRERA\",\"CENTRAL PONIENTE 677 ENTRE 6A PONIENTE Y 5 PONIENTE CP. 20190\",\"CHIAPAS\",\"TUXTLA GUTIÉRREZ\"\n",
      "\n",
      "\"LECHE PASTEURIZADA\",\"ENTERA. ENVASE 1 LT.\",\"ALPURA. CLASICA\",\"LECHE PROCESADA\",\"16.4\",\"2016-04-19 00:00:00\",\"BODEGA AURRERA\",\"TIENDA DE AUTOSERVICIO\",\"BODEGA AURRERA\",\"CENTRAL PONIENTE 677 ENTRE 6A PONIENTE Y 5 PONIENTE CP. 20190\",\"CHIAPAS\",\"TUXTLA GUTIÉRREZ\"\n",
      "\n",
      "\"LECHE PASTEURIZADA\",\"PARCIALMENTE DESCREMADA. ENVASE 1 LT.\",\"ALPURA. SEMI\",\"LECHE PROCESADA\",\"16.4\",\"2016-04-19 00:00:00\",\"BODEGA AURRERA\",\"TIENDA DE AUTOSERVICIO\",\"BODEGA AURRERA\",\"CENTRAL PONIENTE 677 ENTRE 6A PONIENTE Y 5 PONIENTE CP. 20190\",\"CHIAPAS\",\"TUXTLA GUTIÉRREZ\"\n",
      "\n",
      "\"LECHE PASTEURIZADA\",\"PARCIALMENTE DESCREMADA. ENVASE 1 LT.\",\"ALPURA. LIGHT\",\"LECHE PROCESADA\",\"16.4\",\"2016-04-19 00:00:00\",\"BODEGA AURRERA\",\"TIENDA DE AUTOSERVICIO\",\"BODEGA AURRERA\",\"CENTRAL PONIENTE 677 ENTRE 6A PONIENTE Y 5 PONIENTE CP. 20190\",\"CHIAPAS\",\"TUXTLA GUTIÉRREZ\"\n",
      "\n",
      "\"LECHE ULTRAPASTEURIZADA\",\"PARCIALMENTE DESCREMADA. CAJA 1 LT. AZUL\",\"ALPURA 2000 CLASICA\",\"LECHE PROCESADA\",\"16.4\",\"2016-04-19 00:00:00\",\"BODEGA AURRERA\",\"TIENDA DE AUTOSERVICIO\",\"BODEGA AURRERA\",\"CENTRAL PONIENTE 677 ENTRE 6A PONIENTE Y 5 PONIENTE CP. 20190\",\"CHIAPAS\",\"TUXTLA GUTIÉRREZ\"\n",
      "\n",
      "\"LECHE ULTRAPASTEURIZADA\",\"PARCIALMENTE DESCREMADA. CAJA 1 LT.\",\"ALPURA 2000. LIGHT\",\"LECHE PROCESADA\",\"16.4\",\"2016-04-19 00:00:00\",\"BODEGA AURRERA\",\"TIENDA DE AUTOSERVICIO\",\"BODEGA AURRERA\",\"CENTRAL PONIENTE 677 ENTRE 6A PONIENTE Y 5 PONIENTE CP. 20190\",\"CHIAPAS\",\"TUXTLA GUTIÉRREZ\"\n",
      "\n",
      "\"LECHE ULTRAPASTEURIZADA\",\"PARCIALMENTE DESCREMADA. CAJA 1 LT.\",\"ALPURA 2000. SEMI\",\"LECHE PROCESADA\",\"16.4\",\"2016-04-19 00:00:00\",\"BODEGA AURRERA\",\"TIENDA DE AUTOSERVICIO\",\"BODEGA AURRERA\",\"CENTRAL PONIENTE 677 ENTRE 6A PONIENTE Y 5 PONIENTE CP. 20190\",\"CHIAPAS\",\"TUXTLA GUTIÉRREZ\"\n",
      "\n",
      "\"LECHE ULTRAPASTEURIZADA\",\"CON GRASA VEGETAL. CAJA 1 LT. (MEZCLA)\",\"ALPURA 2000. SIN COLESTEROL\",\"LECHE PROCESADA\",\"16.8\",\"2016-04-19 00:00:00\",\"BODEGA AURRERA\",\"TIENDA DE AUTOSERVICIO\",\"BODEGA AURRERA\",\"CENTRAL PONIENTE 677 ENTRE 6A PONIENTE Y 5 PONIENTE CP. 20190\",\"CHIAPAS\",\"TUXTLA GUTIÉRREZ\"\n",
      "\n",
      "\"LECHE ULTRAPASTEURIZADA\",\"CON GRASA VEGETAL. CAJA 1 LT. (MEZCLA)\",\"FORTILECHE\",\"LECHE PROCESADA\",\"12.1\",\"2016-04-19 00:00:00\",\"BODEGA AURRERA\",\"TIENDA DE AUTOSERVICIO\",\"BODEGA AURRERA\",\"CENTRAL PONIENTE 677 ENTRE 6A PONIENTE Y 5 PONIENTE CP. 20190\",\"CHIAPAS\",\"TUXTLA GUTIÉRREZ\"\n",
      "\n",
      "\"LECHE ULTRAPASTEURIZADA\",\"PARCIALMENTE DESCREMADA. CAJA 1 LT.\",\"LALA. LIGHT\",\"LECHE PROCESADA\",\"14.7\",\"2016-04-19 00:00:00\",\"BODEGA AURRERA\",\"TIENDA DE AUTOSERVICIO\",\"BODEGA AURRERA\",\"CENTRAL PONIENTE 677 ENTRE 6A PONIENTE Y 5 PONIENTE CP. 20190\",\"CHIAPAS\",\"TUXTLA GUTIÉRREZ\"\n",
      "\n",
      "\"LECHE ULTRAPASTEURIZADA\",\"CAJA 1 LT. ENTERA\",\"LALA. ENTERA\",\"LECHE PROCESADA\",\"14.7\",\"2016-04-19 00:00:00\",\"BODEGA AURRERA\",\"TIENDA DE AUTOSERVICIO\",\"BODEGA AURRERA\",\"CENTRAL PONIENTE 677 ENTRE 6A PONIENTE Y 5 PONIENTE CP. 20190\",\"CHIAPAS\",\"TUXTLA GUTIÉRREZ\"\n",
      "\n",
      "\"LECHE ULTRAPASTEURIZADA\",\"DESCREMADA. CAJA 1 LT.\",\"LALA. SILUETTE PLUS 0%\",\"LECHE PROCESADA\",\"15.3\",\"2016-04-19 00:00:00\",\"BODEGA AURRERA\",\"TIENDA DE AUTOSERVICIO\",\"BODEGA AURRERA\",\"CENTRAL PONIENTE 677 ENTRE 6A PONIENTE Y 5 PONIENTE CP. 20190\",\"CHIAPAS\",\"TUXTLA GUTIÉRREZ\"\n",
      "\n",
      "\"LECHE ULTRAPASTEURIZADA\",\"CAJA 1 LT. SEMIDESCREMADA\",\"LALA. SEMIDESCREMADA\",\"LECHE PROCESADA\",\"14.7\",\"2016-04-19 00:00:00\",\"BODEGA AURRERA\",\"TIENDA DE AUTOSERVICIO\",\"BODEGA AURRERA\",\"CENTRAL PONIENTE 677 ENTRE 6A PONIENTE Y 5 PONIENTE CP. 20190\",\"CHIAPAS\",\"TUXTLA GUTIÉRREZ\"\n",
      "\n",
      "\"LECHE EVAPORADA\",\"LATA 360 GR. EVAPORADA PARCIALMENTE DESCREMADA\",\"CARNATION. CLAVEL. LA ORIGINAL\",\"\",\"11.9\",\"2016-04-19 00:00:00\",\"BODEGA AURRERA\",\"TIENDA DE AUTOSERVICIO\",\"BODEGA AURRERA\",\"CENTRAL PONIENTE 677 ENTRE 6A PONIENTE Y 5 PONIENTE CP. 20190\",\"CHIAPAS\",\"TUXTLA GUTIÉRREZ\"\n",
      "\n",
      "\"LECHE EVAPORADA\",\"DESCREMADA. LATA 360 GR. CREMOSA Y LIGERA Ó 80% MENOS GRASA\",\"CARNATION. CLAVEL. CREMOSA Y LIGERA\",\"\",\"12.9\",\"2016-04-19 00:00:00\",\"BODEGA AURRERA\",\"TIENDA DE AUTOSERVICIO\",\"BODEGA AURRERA\",\"CENTRAL PONIENTE 677 ENTRE 6A PONIENTE Y 5 PONIENTE CP. 20190\",\"CHIAPAS\",\"TUXTLA GUTIÉRREZ\"\n",
      "\n",
      "\"LECHE CONDENSADA\",\"LATA 100 GR.\",\"LA LECHERA\",\"\",\"8.9\",\"2016-04-19 00:00:00\",\"BODEGA AURRERA\",\"TIENDA DE AUTOSERVICIO\",\"BODEGA AURRERA\",\"CENTRAL PONIENTE 677 ENTRE 6A PONIENTE Y 5 PONIENTE CP. 20190\",\"CHIAPAS\",\"TUXTLA GUTIÉRREZ\"\n",
      "\n"
     ]
    }
   ],
   "source": [
    "for i in range(1110,1139):\n",
    "    print(texto[i])"
   ]
  },
  {
   "cell_type": "code",
   "execution_count": 23,
   "metadata": {},
   "outputs": [
    {
     "data": {
      "text/plain": [
       "184"
      ]
     },
     "execution_count": 23,
     "metadata": {},
     "output_type": "execute_result"
    }
   ],
   "source": [
    "texto[0].find('COL.')\n"
   ]
  }
 ],
 "metadata": {
  "kernelspec": {
   "display_name": "Python 3",
   "language": "python",
   "name": "python3"
  },
  "language_info": {
   "codemirror_mode": {
    "name": "ipython",
    "version": 3
   },
   "file_extension": ".py",
   "mimetype": "text/x-python",
   "name": "python",
   "nbconvert_exporter": "python",
   "pygments_lexer": "ipython3",
   "version": "3.6.4"
  }
 },
 "nbformat": 4,
 "nbformat_minor": 2
}
