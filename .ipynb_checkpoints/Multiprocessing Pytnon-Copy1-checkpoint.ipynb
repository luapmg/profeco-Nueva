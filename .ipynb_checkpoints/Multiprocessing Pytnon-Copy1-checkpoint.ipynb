{
 "cells": [
  {
   "cell_type": "markdown",
   "metadata": {},
   "source": [
    "<h1> MILK        SERVIDOR </h1>"
   ]
  },
  {
   "cell_type": "markdown",
   "metadata": {},
   "source": [
    "<p>Importar Librerias</p>"
   ]
  },
  {
   "cell_type": "code",
   "execution_count": 1,
   "metadata": {},
   "outputs": [],
   "source": [
    "import pandas as pd\n",
    "import numpy as np\n",
    "from sklearn.neural_network import MLPRegressor\n",
    "import csv\n",
    "from sklearn.preprocessing import LabelBinarizer\n",
    "from sklearn.preprocessing import LabelEncoder\n",
    "from multiprocessing import Process\n",
    "from multiprocessing import Pool\n",
    "from multiprocessing import Manager\n",
    "import csv\n",
    "from multiprocessing import Process, Queue"
   ]
  },
  {
   "cell_type": "markdown",
   "metadata": {},
   "source": [
    "<p>Cargamos los datos</p>"
   ]
  },
  {
   "cell_type": "markdown",
   "metadata": {},
   "source": [
    "df = pd.read_csv('/home/paul/Documentos/Nuevas Tablas Profeco 2016/xxx/all_milk_xxx.csv', encoding='utf8',  \n",
    "                 names=['producto','presentacion','marca','categoria','precio','fechaRegistro','cadenaComercial', \n",
    "                          'giro','nombreComercial','direccion','estado','municipio'])"
   ]
  },
  {
   "cell_type": "markdown",
   "metadata": {},
   "source": [
    "<p>Reordenamos el dataFrame</p>"
   ]
  },
  {
   "cell_type": "markdown",
   "metadata": {},
   "source": [
    "df = df[['producto','presentacion','marca','categoria','cadenaComercial','giro','nombreComercial','direccion','estado',\n",
    "        'municipio','fechaRegistro','precio']]"
   ]
  },
  {
   "cell_type": "markdown",
   "metadata": {},
   "source": [
    "X_train = df.iloc[:, 0:10].values\n",
    "y_train = df.iloc[:, 10].values"
   ]
  },
  {
   "cell_type": "markdown",
   "metadata": {},
   "source": [
    "<b>Comenzamos</b>"
   ]
  },
  {
   "cell_type": "code",
   "execution_count": 2,
   "metadata": {},
   "outputs": [],
   "source": [
    "producto = []\n",
    "def leer_producto(q):\n",
    "    df_features = pd.read_csv('/home/paul/Documentos/Nuevas Tablas Profeco 2016/Xdesings/Xdesing_milk_producto.csv', \n",
    "                              header=None)\n",
    "    producto = df_features.iloc[:,:].values\n",
    "    q.put(producto)"
   ]
  },
  {
   "cell_type": "code",
   "execution_count": 3,
   "metadata": {},
   "outputs": [],
   "source": [
    "presentacion = []\n",
    "def leer_presentacion(q):\n",
    "    df_features = pd.read_csv('/home/paul/Documentos/Nuevas Tablas Profeco 2016/Xdesings/Xdesing_milk_presentacion.csv', \n",
    "                              header=None)\n",
    "    presentacion = df_features.iloc[:,:].values\n",
    "    q.put(presentacion)"
   ]
  },
  {
   "cell_type": "code",
   "execution_count": 4,
   "metadata": {},
   "outputs": [],
   "source": [
    "marca = []\n",
    "def leer_marca(q):\n",
    "    df_features = pd.read_csv('/home/paul/Documentos/Nuevas Tablas Profeco 2016/Xdesings/Xdesing_milk_marca.csv', \n",
    "                              header=None)\n",
    "    marca = df_features.iloc[:,:].values\n",
    "    q.put(marca)"
   ]
  },
  {
   "cell_type": "code",
   "execution_count": 5,
   "metadata": {},
   "outputs": [],
   "source": [
    "categoria = []\n",
    "def leer_categoria(q):\n",
    "    df_features = pd.read_csv('/home/paul/Documentos/Nuevas Tablas Profeco 2016/Xdesings/Xdesing_milk_categoria.csv', \n",
    "                              header=None)\n",
    "    categoria = df_features.iloc[:,:].values\n",
    "    q.put(categoria)"
   ]
  },
  {
   "cell_type": "code",
   "execution_count": 6,
   "metadata": {},
   "outputs": [],
   "source": [
    "nombreComercial = []\n",
    "def leer_cadenaComercial(q):\n",
    "    df_features = pd.read_csv('/home/paul/Documentos/Nuevas Tablas Profeco 2016/Xdesings/Xdesing_milk_cadenaComercial.csv', \n",
    "                              header=None)\n",
    "    cadenaComercial = df_features.iloc[:,:].values\n",
    "    q.put(cadenaComercial)"
   ]
  },
  {
   "cell_type": "code",
   "execution_count": 7,
   "metadata": {},
   "outputs": [],
   "source": [
    "giro = []\n",
    "def leer_giro(q):\n",
    "    df_features = pd.read_csv('/home/paul/Documentos/Nuevas Tablas Profeco 2016/Xdesings/Xdesing_milk_giro.csv', \n",
    "                              header=None)\n",
    "    giro = df_features.iloc[:,:].values\n",
    "    q.put(giro)"
   ]
  },
  {
   "cell_type": "code",
   "execution_count": 8,
   "metadata": {},
   "outputs": [],
   "source": [
    "nombreComercial = []\n",
    "def leer_nombreComercial(q):\n",
    "    df_features = pd.read_csv('/home/paul/Documentos/Nuevas Tablas Profeco 2016/Xdesings/Xdesing_milk_nombreComercial.csv', \n",
    "                              header=None)\n",
    "    nombreComercial = df_features.iloc[:,:].values\n",
    "    q.put(nombreComercial)"
   ]
  },
  {
   "cell_type": "code",
   "execution_count": 9,
   "metadata": {},
   "outputs": [],
   "source": [
    "direccion = []\n",
    "def leer_direccion(q):\n",
    "    df_features = pd.read_csv('/home/paul/Documentos/Nuevas Tablas Profeco 2016/Xdesings/Xdesing_milk_direccion.csv', \n",
    "                              header=None)\n",
    "    direccion = df_features.iloc[:,:].values\n",
    "    q.put(direccion)"
   ]
  },
  {
   "cell_type": "code",
   "execution_count": 10,
   "metadata": {},
   "outputs": [],
   "source": [
    "estado = []\n",
    "def leer_estado(q):\n",
    "    df_features = pd.read_csv('/home/paul/Documentos/Nuevas Tablas Profeco 2016/Xdesings/Xdesing_milk_estado.csv', \n",
    "                              header=None)\n",
    "    estado = df_features.iloc[:,:].values\n",
    "    q.put(estado)"
   ]
  },
  {
   "cell_type": "code",
   "execution_count": 11,
   "metadata": {},
   "outputs": [],
   "source": [
    "municpio = []\n",
    "def leer_municipio(q):\n",
    "    df_features = pd.read_csv('/home/paul/Documentos/Nuevas Tablas Profeco 2016/Xdesings/Xdesing_milk_municipio.csv', \n",
    "                              header=None)\n",
    "    municipio = df_features.iloc[:,:].values\n",
    "    q.put(municipio)"
   ]
  },
  {
   "cell_type": "code",
   "execution_count": null,
   "metadata": {},
   "outputs": [
    {
     "name": "stderr",
     "output_type": "stream",
     "text": [
      "Process Process-18:\n",
      "Traceback (most recent call last):\n",
      "  File \"/home/paul/anaconda3/lib/python3.6/multiprocessing/process.py\", line 258, in _bootstrap\n",
      "    self.run()\n",
      "  File \"/home/paul/anaconda3/lib/python3.6/multiprocessing/process.py\", line 93, in run\n",
      "    self._target(*self._args, **self._kwargs)\n",
      "  File \"<ipython-input-9-27d592473dbf>\", line 3, in leer_direccion\n",
      "    header=None)\n",
      "  File \"/home/paul/anaconda3/lib/python3.6/site-packages/pandas/io/parsers.py\", line 709, in parser_f\n",
      "    return _read(filepath_or_buffer, kwds)\n",
      "  File \"/home/paul/anaconda3/lib/python3.6/site-packages/pandas/io/parsers.py\", line 449, in _read\n",
      "    parser = TextFileReader(filepath_or_buffer, **kwds)\n",
      "  File \"/home/paul/anaconda3/lib/python3.6/site-packages/pandas/io/parsers.py\", line 818, in __init__\n",
      "    self._make_engine(self.engine)\n",
      "  File \"/home/paul/anaconda3/lib/python3.6/site-packages/pandas/io/parsers.py\", line 1049, in _make_engine\n",
      "    self._engine = CParserWrapper(self.f, **self.options)\n",
      "  File \"/home/paul/anaconda3/lib/python3.6/site-packages/pandas/io/parsers.py\", line 1695, in __init__\n",
      "    self._reader = parsers.TextReader(src, **kwds)\n",
      "  File \"pandas/_libs/parsers.pyx\", line 402, in pandas._libs.parsers.TextReader.__cinit__\n",
      "  File \"pandas/_libs/parsers.pyx\", line 718, in pandas._libs.parsers.TextReader._setup_parser_source\n",
      "FileNotFoundError: File b'/home/paul/Documentos/Nuevas Tablas Profeco 2016/Xdesings/Xdesing_milk_direccion.csv' does not exist\n",
      "Process Process-20:\n",
      "Traceback (most recent call last):\n",
      "  File \"/home/paul/anaconda3/lib/python3.6/multiprocessing/process.py\", line 258, in _bootstrap\n",
      "    self.run()\n",
      "  File \"/home/paul/anaconda3/lib/python3.6/multiprocessing/process.py\", line 93, in run\n",
      "    self._target(*self._args, **self._kwargs)\n",
      "  File \"<ipython-input-11-083d1f541816>\", line 5, in leer_municipio\n",
      "    q.put(municpio)\n",
      "NameError: name 'municpio' is not defined\n"
     ]
    }
   ],
   "source": [
    "#Leemos las columnas ya binarizadas del disco\n",
    "\n",
    "producto = []\n",
    "presentacion = []\n",
    "marca = []\n",
    "categoria = []\n",
    "cadenaComercial = []\n",
    "giro = []\n",
    "nombreComercial = []\n",
    "direccion = []\n",
    "estado = []\n",
    "municipio = []\n",
    "\n",
    "if __name__ == '__main__':\n",
    "    \n",
    "    q1 = Queue()\n",
    "    q2 = Queue()\n",
    "    q3 = Queue()\n",
    "    q4 = Queue()\n",
    "    q5 = Queue()\n",
    "    q6 = Queue()\n",
    "    q7 = Queue()\n",
    "    q8 = Queue()\n",
    "    q9 = Queue()\n",
    "    q10 = Queue()\n",
    "   \n",
    "    p1 = Process(target=leer_producto, args=(q1,))\n",
    "    p2 = Process(target=leer_presentacion, args=(q2,))\n",
    "    p3 = Process(target=leer_marca, args=(q3,))\n",
    "    p4 = Process(target=leer_categoria, args=(q4,))\n",
    "    p5 = Process(target=leer_cadenaComercial, args=(q5,))\n",
    "    p6 = Process(target=leer_giro, args=(q6,))\n",
    "    p7 = Process(target=leer_nombreComercial, args=(q7,))\n",
    "    p8 = Process(target=leer_direccion, args=(q8,))\n",
    "    p9 = Process(target=leer_estado, args=(q9,))\n",
    "    p10 = Process(target=leer_municipio, args=(q10,))\n",
    "    p1.start()\n",
    "    p2.start()\n",
    "    p3.start()\n",
    "    p4.start()\n",
    "    p5.start()\n",
    "    p6.start()\n",
    "    p7.start()\n",
    "    p8.start()\n",
    "    p9.start()\n",
    "    p10.start()\n",
    "    producto = q1.get()\n",
    "    presentacion = q2.get()\n",
    "    marca = q3.get()\n",
    "    categoria = q4.get()\n",
    "    cadenaComercial = q5.get()\n",
    "    giro = q6.get()\n",
    "    nombreComercial = q7.get()\n",
    "    direccion = q8.get()\n",
    "    estado = q9.get()\n",
    "    municipio = q10.get()\n",
    "    p1.join()\n",
    "    p2.join()\n",
    "    p3.join()\n",
    "    p4.join()\n",
    "    p5.join()\n",
    "    p6.join()\n",
    "    p7.join()\n",
    "    p8.join()\n",
    "    p9.join()\n",
    "    p10.join()"
   ]
  },
  {
   "cell_type": "markdown",
   "metadata": {},
   "source": [
    "<b>Binarizamos todas las columnas que son strings y se trataran como etiquetas</b>\n",
    "<ul>\n",
    "  <li>Hacemos uso de Herramientas de sklearn.preprocessing</li>\n",
    "  <li>Seguimos usando el DataFrame de pandas para el manejo de las columnas</li>\n",
    "</ul>"
   ]
  },
  {
   "cell_type": "code",
   "execution_count": null,
   "metadata": {},
   "outputs": [],
   "source": [
    "print(len(categoria))\n",
    "print(len(direccion))"
   ]
  },
  {
   "cell_type": "code",
   "execution_count": null,
   "metadata": {},
   "outputs": [],
   "source": [
    "Xdesing = []\n",
    "for i in range(0, len(X_train)):\n",
    "    Xdesing.append(df['producto'][i] + df['presentacion'][i]+ df['marca'][i] \n",
    "                  + df['categoria'][i] + df['cadenaComercial'][i] + df['giro'][i]\n",
    "                  + df['direccion'][i] + df['estado'][i] + df['municipio'][i] \n",
    "                  + time[i])\n",
    "Xdesing = np.asarray(Xdesing)\n",
    "y = np.asarray(y_train)"
   ]
  },
  {
   "cell_type": "markdown",
   "metadata": {},
   "source": [
    "binarized_column = {}\n",
    "lb = LabelBinarizer()\n",
    "for i in range(0, len(df.axes[1])-2):\n",
    "    binarized_column[df.axes[1][i]] = lb.fit_transform(column[df.axes[1][i]]).tolist()"
   ]
  },
  {
   "cell_type": "markdown",
   "metadata": {},
   "source": [
    "<b>Creamos la matriz de Diseño</b>"
   ]
  },
  {
   "cell_type": "markdown",
   "metadata": {},
   "source": [
    "Xdesing = []\n",
    "for i in range(0, len(X_train)):\n",
    "    Xdesing.append(binarized_column['producto'][i] + binarized_column['presentacion'][i]+ binarized_column['marca'][i] \n",
    "                  + binarized_column['categoria'][i] + binarized_column['cadenaComercial'][i] + binarized_column['giro'][i]\n",
    "                  + binarized_column['direccion'][i] + binarized_column['estado'][i] + binarized_column['municipio'][i] \n",
    "                  + time[i])\n",
    "Xdesing = np.asarray(Xdesing)\n",
    "y = np.asarray(y_train)"
   ]
  },
  {
   "cell_type": "code",
   "execution_count": null,
   "metadata": {},
   "outputs": [],
   "source": [
    "Xdesing.shape"
   ]
  },
  {
   "cell_type": "code",
   "execution_count": null,
   "metadata": {},
   "outputs": [],
   "source": [
    "import csv\n",
    "with open('/home/paul/Documentos/Nuevas Tablas Profeco 2016/Xdesings/Xdesing_milk.csv', 'w') as csvfile:\n",
    "    spamwriter = csv.writer(csvfile, delimiter=',',\n",
    "                            quotechar='|', quoting=csv.QUOTE_MINIMAL)\n",
    "    for row in Xdesing:\n",
    "        spamwriter.writerow(row)"
   ]
  }
 ],
 "metadata": {
  "kernelspec": {
   "display_name": "Python 3",
   "language": "python",
   "name": "python3"
  },
  "language_info": {
   "codemirror_mode": {
    "name": "ipython",
    "version": 3
   },
   "file_extension": ".py",
   "mimetype": "text/x-python",
   "name": "python",
   "nbconvert_exporter": "python",
   "pygments_lexer": "ipython3",
   "version": "3.6.4"
  }
 },
 "nbformat": 4,
 "nbformat_minor": 2
}
