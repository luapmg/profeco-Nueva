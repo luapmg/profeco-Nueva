{
 "cells": [
  {
   "cell_type": "code",
   "execution_count": 1,
   "metadata": {},
   "outputs": [],
   "source": [
    "import numpy as np\n",
    "import pandas as pd\n",
    "import matplotlib.pyplot as plt\n",
    "\n",
    "from sklearn.neural_network import MLPRegressor\n",
    "from sklearn.model_selection import cross_val_score"
   ]
  },
  {
   "cell_type": "code",
   "execution_count": 2,
   "metadata": {},
   "outputs": [],
   "source": [
    "#Cargamos los datos ------------------------------------------------------------------------------------------\n",
    "df_features = pd.read_csv('/home/luap/Documentos/Proyecto Profeco/Archivos de Proyecto Profeco/Xdesing2.csv', header=None)\n",
    "X_train = df_features.iloc[0:142211,:].values\n",
    "\n",
    "df_targets = pd.read_csv('/home/luap/Documentos/Proyecto Profeco/Archivos de Proyecto Profeco/atun_all_utf8.csv', header=0)\n",
    "y_train = df_targets.iloc[0:142211, 10].values"
   ]
  },
  {
   "cell_type": "code",
   "execution_count": 6,
   "metadata": {},
   "outputs": [
    {
     "name": "stdout",
     "output_type": "stream",
     "text": [
      "177763\n",
      "(142211, 987)\n"
     ]
    }
   ],
   "source": [
    "print(len(df_features))\n",
    "print(X_train.shape)"
   ]
  },
  {
   "cell_type": "code",
   "execution_count": 5,
   "metadata": {},
   "outputs": [],
   "source": [
    "#Cargamos los datos ------------------------------------------------------------------------------------------\n",
    "df_features = pd.read_csv('/home/luap/Documentos/Proyecto Profeco/Archivos de Proyecto Profeco/Xdesing2.csv', header=None)\n",
    "X_test = df_features.iloc[142211:,:].values\n",
    "\n",
    "df_targets = pd.read_csv('/home/luap/Documentos/Proyecto Profeco/Archivos de Proyecto Profeco/atun_all_utf8.csv', header=0)\n",
    "y_true = df_targets.iloc[142211:, 10].values"
   ]
  },
  {
   "cell_type": "code",
   "execution_count": 7,
   "metadata": {},
   "outputs": [
    {
     "name": "stdout",
     "output_type": "stream",
     "text": [
      "177763\n",
      "(35552, 987)\n"
     ]
    }
   ],
   "source": [
    "print(len(df_features))\n",
    "print(X_test.shape)"
   ]
  },
  {
   "cell_type": "code",
   "execution_count": 5,
   "metadata": {},
   "outputs": [],
   "source": [
    "nnr2 = MLPRegressor(hidden_layer_sizes=(5, 2), activation='relu', solver='adam', alpha=0.004, max_iter=200, verbose=True,\n",
    "                   shuffle=True, warm_start=False, tol=0.0001)"
   ]
  },
  {
   "cell_type": "code",
   "execution_count": null,
   "metadata": {},
   "outputs": [],
   "source": [
    "nnr1.get_params"
   ]
  },
  {
   "cell_type": "code",
   "execution_count": null,
   "metadata": {},
   "outputs": [],
   "source": [
    "string = []"
   ]
  },
  {
   "cell_type": "code",
   "execution_count": null,
   "metadata": {
    "scrolled": true
   },
   "outputs": [],
   "source": [
    "scores = cross_val_score(nnr1, X_train, y_train, cv=5, scoring='r2')"
   ]
  },
  {
   "cell_type": "code",
   "execution_count": null,
   "metadata": {},
   "outputs": [],
   "source": [
    "scores.all"
   ]
  },
  {
   "cell_type": "code",
   "execution_count": null,
   "metadata": {},
   "outputs": [],
   "source": [
    "scores"
   ]
  },
  {
   "cell_type": "code",
   "execution_count": null,
   "metadata": {},
   "outputs": [],
   "source": [
    "print(\"Accuracy: %0.2f (+/- %0.2f)\" % (scores.mean(), scores.std() * 2))"
   ]
  },
  {
   "cell_type": "code",
   "execution_count": null,
   "metadata": {},
   "outputs": [],
   "source": [
    "validations = [1,2,3,4,5]\n",
    "plt.plot(validations, scores, 'r')\n",
    "plt.xlabel('cross validations')\n",
    "plt.ylabel('score')"
   ]
  },
  {
   "cell_type": "code",
   "execution_count": 6,
   "metadata": {
    "scrolled": true
   },
   "outputs": [
    {
     "name": "stdout",
     "output_type": "stream",
     "text": [
      "Iteration 1, loss = 165.67456018\n",
      "Iteration 2, loss = 143.59054490\n",
      "Iteration 3, loss = 99.87106595\n",
      "Iteration 4, loss = 42.70757973\n",
      "Iteration 5, loss = 17.13908871\n",
      "Iteration 6, loss = 12.69107570\n",
      "Iteration 7, loss = 11.73888243\n",
      "Iteration 8, loss = 11.08598060\n",
      "Iteration 9, loss = 10.29415434\n",
      "Iteration 10, loss = 9.94083003\n",
      "Iteration 11, loss = 9.61984824\n",
      "Iteration 12, loss = 9.04479146\n",
      "Iteration 13, loss = 8.99204717\n",
      "Iteration 14, loss = 8.79997145\n",
      "Iteration 15, loss = 8.64711088\n",
      "Iteration 16, loss = 8.64356538\n",
      "Iteration 17, loss = 8.42217322\n",
      "Iteration 18, loss = 8.36681374\n",
      "Iteration 19, loss = 8.40323895\n",
      "Iteration 20, loss = 8.27354432\n",
      "Iteration 21, loss = 8.34227395\n",
      "Iteration 22, loss = 8.08783643\n",
      "Iteration 23, loss = 8.16457465\n",
      "Iteration 24, loss = 8.21154701\n",
      "Iteration 25, loss = 8.10778224\n",
      "Training loss did not improve more than tol=0.000100 for two consecutive epochs. Stopping.\n"
     ]
    },
    {
     "data": {
      "text/plain": [
       "MLPRegressor(activation='relu', alpha=0.004, batch_size='auto', beta_1=0.9,\n",
       "       beta_2=0.999, early_stopping=False, epsilon=1e-08,\n",
       "       hidden_layer_sizes=(5, 2), learning_rate='constant',\n",
       "       learning_rate_init=0.001, max_iter=200, momentum=0.9,\n",
       "       nesterovs_momentum=True, power_t=0.5, random_state=None,\n",
       "       shuffle=True, solver='adam', tol=0.0001, validation_fraction=0.1,\n",
       "       verbose=True, warm_start=False)"
      ]
     },
     "execution_count": 6,
     "metadata": {},
     "output_type": "execute_result"
    }
   ],
   "source": [
    "nnr2.fit(X_train, y_train)"
   ]
  },
  {
   "cell_type": "code",
   "execution_count": 8,
   "metadata": {},
   "outputs": [
    {
     "data": {
      "text/plain": [
       "0.9551629558087812"
      ]
     },
     "execution_count": 8,
     "metadata": {},
     "output_type": "execute_result"
    }
   ],
   "source": [
    "nnr2.score(X_train, y_train)"
   ]
  },
  {
   "cell_type": "markdown",
   "metadata": {},
   "source": [
    "<h1>Ya lo tengo entrenado</h1>"
   ]
  },
  {
   "cell_type": "code",
   "execution_count": 10,
   "metadata": {},
   "outputs": [
    {
     "data": {
      "text/plain": [
       "['/home/luap/Documentos/Proyecto Profeco/Archivos de Proyecto Profeco/segundoModelo.pkl']"
      ]
     },
     "execution_count": 10,
     "metadata": {},
     "output_type": "execute_result"
    }
   ],
   "source": [
    "from sklearn.externals import joblib\n",
    "joblib.dump(nnr1, '/home/luap/Documentos/Proyecto Profeco/Archivos de Proyecto Profeco/segundoModelo.pkl')"
   ]
  },
  {
   "cell_type": "code",
   "execution_count": 16,
   "metadata": {},
   "outputs": [],
   "source": [
    "y_pred= nnr2.predict(X_test)"
   ]
  },
  {
   "cell_type": "code",
   "execution_count": 24,
   "metadata": {},
   "outputs": [],
   "source": [
    "results = []\n",
    "for row1,row2 in zip(y_true, y_pred):\n",
    "    results.append([row1,row2])"
   ]
  },
  {
   "cell_type": "code",
   "execution_count": 25,
   "metadata": {},
   "outputs": [],
   "source": [
    "import csv\n",
    "with open('/home/luap/Documentos/Proyecto Profeco/Archivos de Proyecto Profeco/results.csv', 'w') as csvfile:\n",
    "    spamwriter = csv.writer(csvfile, delimiter=',',\n",
    "                            quotechar='|', quoting=csv.QUOTE_MINIMAL)\n",
    "    for row in results:\n",
    "        spamwriter.writerow(row)"
   ]
  },
  {
   "cell_type": "code",
   "execution_count": 15,
   "metadata": {},
   "outputs": [
    {
     "data": {
      "text/plain": [
       "0.9538375782535932"
      ]
     },
     "execution_count": 15,
     "metadata": {},
     "output_type": "execute_result"
    }
   ],
   "source": [
    "nnr2.score(X_test, y_true)"
   ]
  }
 ],
 "metadata": {
  "kernelspec": {
   "display_name": "Python 3",
   "language": "python",
   "name": "python3"
  },
  "language_info": {
   "codemirror_mode": {
    "name": "ipython",
    "version": 3
   },
   "file_extension": ".py",
   "mimetype": "text/x-python",
   "name": "python",
   "nbconvert_exporter": "python",
   "pygments_lexer": "ipython3",
   "version": "3.6.4"
  }
 },
 "nbformat": 4,
 "nbformat_minor": 2
}
