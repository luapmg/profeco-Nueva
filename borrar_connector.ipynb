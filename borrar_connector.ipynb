{
 "cells": [
  {
   "cell_type": "code",
   "execution_count": 5,
   "metadata": {},
   "outputs": [],
   "source": [
    "import MySQLdb"
   ]
  },
  {
   "cell_type": "code",
   "execution_count": 7,
   "metadata": {},
   "outputs": [],
   "source": [
    "db = MySQLdb.connect(user='paul', host='127.0.0.1', password='root', db='profeco_2016')"
   ]
  },
  {
   "cell_type": "code",
   "execution_count": 8,
   "metadata": {},
   "outputs": [],
   "source": [
    "c = db.cursor()"
   ]
  },
  {
   "cell_type": "code",
   "execution_count": 18,
   "metadata": {},
   "outputs": [],
   "source": [
    "query = ('select * from all_data_2016 limit 0,2')"
   ]
  },
  {
   "cell_type": "code",
   "execution_count": 19,
   "metadata": {},
   "outputs": [
    {
     "data": {
      "text/plain": [
       "2"
      ]
     },
     "execution_count": 19,
     "metadata": {},
     "output_type": "execute_result"
    }
   ],
   "source": [
    "c.execute(query)"
   ]
  },
  {
   "cell_type": "code",
   "execution_count": 23,
   "metadata": {},
   "outputs": [
    {
     "name": "stdout",
     "output_type": "stream",
     "text": [
      "(1, 'CUADERNO FORMA ITALIANA', '96 HOJAS PASTA DURA. CUADRICULA CHICA', 'ESTRELLA', 'MATERIAL ESCOLAR', 'UTILES ESCOLARES', 25.9, datetime.datetime(2011, 5, 18, 0, 0), 'ABASTECEDORA LUMEN', 'PAPELERIAS', 'ABASTECEDORA LUMEN SUCURSAL VILLA COAPA', 'CANNES No. 6 ESQ. CANAL DE MIRAMONTES', 'DISTRITO FEDERAL', 'TLALPAN                                 ', '19.29699', '-99.125417\\r')\n",
      "(2, 'CRAYONES', 'CAJA 12 CERAS. JUMBO. C.B. 201423', 'CRAYOLA', 'MATERIAL ESCOLAR', 'UTILES ESCOLARES', 27.5, datetime.datetime(2011, 5, 18, 0, 0), 'ABASTECEDORA LUMEN', 'PAPELERIAS', 'ABASTECEDORA LUMEN SUCURSAL VILLA COAPA', 'CANNES No. 6 ESQ. CANAL DE MIRAMONTES', 'DISTRITO FEDERAL', 'TLALPAN                                 ', '19.29699', '-99.125417\\r')\n"
     ]
    }
   ],
   "source": [
    "for row in c:\n",
    "    print(row)"
   ]
  },
  {
   "cell_type": "code",
   "execution_count": null,
   "metadata": {},
   "outputs": [],
   "source": [
    "c."
   ]
  }
 ],
 "metadata": {
  "kernelspec": {
   "display_name": "Python 3",
   "language": "python",
   "name": "python3"
  },
  "language_info": {
   "codemirror_mode": {
    "name": "ipython",
    "version": 3
   },
   "file_extension": ".py",
   "mimetype": "text/x-python",
   "name": "python",
   "nbconvert_exporter": "python",
   "pygments_lexer": "ipython3",
   "version": "3.6.4"
  }
 },
 "nbformat": 4,
 "nbformat_minor": 2
}
