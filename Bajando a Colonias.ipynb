{
 "cells": [
  {
   "cell_type": "code",
   "execution_count": 1,
   "metadata": {},
   "outputs": [],
   "source": [
    "from multiprocessing import Process, Queue"
   ]
  },
  {
   "cell_type": "code",
   "execution_count": 2,
   "metadata": {},
   "outputs": [],
   "source": [
    "with open('/home/paul/Documentos/Nuevas Tablas Profeco 2016/xxx/all_milk_xxx.csv', 'r', encoding='utf8') as file:\n",
    "    texto = file.readlines()"
   ]
  },
  {
   "cell_type": "code",
   "execution_count": 3,
   "metadata": {},
   "outputs": [
    {
     "data": {
      "text/plain": [
       "2089971"
      ]
     },
     "execution_count": 3,
     "metadata": {},
     "output_type": "execute_result"
    }
   ],
   "source": [
    "len(texto)"
   ]
  },
  {
   "cell_type": "code",
   "execution_count": 4,
   "metadata": {},
   "outputs": [],
   "source": [
    "lugar = []\n",
    "colonia = []\n",
    "cp = []\n",
    "error = []\n",
    "countE = 0\n",
    "prueba = texto[0:100]"
   ]
  },
  {
   "cell_type": "code",
   "execution_count": 13,
   "metadata": {},
   "outputs": [],
   "source": [
    "def necesidad(texto):\n",
    "    global lugar\n",
    "    global colonia\n",
    "    global cp\n",
    "    global error\n",
    "    global countE\n",
    "    \n",
    "    for i, row in enumerate(texto):\n",
    "        #COLONIAS ******************************************************************************\n",
    "        if row.find('COL.') != -1:\n",
    "            start = row.find('COL.')\n",
    "            if row[start:].find('CP.') != -1:\n",
    "                end = row[start:].find('CP.')\n",
    "                col = row[start:start+end-1]\n",
    "                #Lo agregamos a lugar(general) y a colonia\n",
    "                colonia.append(col)\n",
    "                lugar.append(col)\n",
    "            elif row[start:].find('\"') != -1:\n",
    "                end = row[start:].find('\"')\n",
    "                col = row[start:start+end]\n",
    "                #Lo agregamos a lugar(general) y a colonia\n",
    "                colonia.append(col)\n",
    "                lugar.append(col)\n",
    "\n",
    "                \n",
    "            #CODIGOS POSTALES *******************************************************************\n",
    "        elif row.find('CP.') != -1:\n",
    "            start2 = row.find('CP.')\n",
    "            if row[start2:].find('\"') != -1:\n",
    "                end = row[start2:].find('\"')\n",
    "                cpostal = row[start2:start2+end]\n",
    "                #Lo agregamos a codigo postal y a lugar(general)\n",
    "                cp.append(cpostal)\n",
    "                lugar.append(col)\n",
    "        else:\n",
    "            #Si no entra ni a colonia ni a codigo postal. Contabilizamos el error y lo almacenamos en error =[]\n",
    "            countE += 1\n",
    "            error.append([countE, i])\n",
    "\n",
    "        \n",
    "    return colonia, cp, error\n",
    "        \n",
    "       "
   ]
  },
  {
   "cell_type": "code",
   "execution_count": 14,
   "metadata": {},
   "outputs": [],
   "source": [
    "#Restauro los valores de lista de colonias y errores antes de correr la funcion\n",
    "lugar = []\n",
    "colonia = []\n",
    "cp = []\n",
    "error = []\n",
    "countE = 0\n",
    "colonia, cp, error = necesidad(texto)"
   ]
  },
  {
   "cell_type": "code",
   "execution_count": 16,
   "metadata": {},
   "outputs": [
    {
     "name": "stdout",
     "output_type": "stream",
     "text": [
      "701149\n",
      "5563\n",
      "1383259\n"
     ]
    }
   ],
   "source": [
    "print(len(colonia))\n",
    "print(len(cp))\n",
    "print(len(error))"
   ]
  },
  {
   "cell_type": "code",
   "execution_count": 17,
   "metadata": {},
   "outputs": [
    {
     "name": "stdout",
     "output_type": "stream",
     "text": [
      "[1, 173731]\n",
      "[2, 173794]\n",
      "[3, 173904]\n",
      "[4, 173996]\n",
      "[5, 174251]\n",
      "[6, 174289]\n",
      "[7, 174348]\n",
      "[8, 174579]\n",
      "[9, 174610]\n",
      "[10, 174708]\n"
     ]
    }
   ],
   "source": [
    "for i in range(0,10):\n",
    "    print(error[i])"
   ]
  },
  {
   "cell_type": "markdown",
   "metadata": {},
   "source": [
    "<b> Revisamos los Errores </b>"
   ]
  },
  {
   "cell_type": "code",
   "execution_count": 18,
   "metadata": {},
   "outputs": [
    {
     "data": {
      "text/plain": [
       "'\"LECHE EN POLVO\",\"ENTERA. BOLSA 500 GR.\",\"ALPURA\",\"LECHE PROCESADA\",\"49\",\"2015-02-10 00:00:00\",\"BODEGA AURRERA\",\"TIENDA DE AUTOSERVICIO\",\"MI BODEGA AURRERA\",\"CALLE LIBRE COMERCIO 204\",\"CHIHUAHUA\",\"OJINAGA\"\\n'"
      ]
     },
     "execution_count": 18,
     "metadata": {},
     "output_type": "execute_result"
    }
   ],
   "source": [
    "texto[173731]"
   ]
  },
  {
   "cell_type": "code",
   "execution_count": null,
   "metadata": {},
   "outputs": [],
   "source": [
    "for i in range(1110,1139):\n",
    "    print(texto[i])"
   ]
  },
  {
   "cell_type": "code",
   "execution_count": null,
   "metadata": {},
   "outputs": [],
   "source": [
    "texto[0].find('COL.')\n"
   ]
  }
 ],
 "metadata": {
  "kernelspec": {
   "display_name": "Python 3",
   "language": "python",
   "name": "python3"
  },
  "language_info": {
   "codemirror_mode": {
    "name": "ipython",
    "version": 3
   },
   "file_extension": ".py",
   "mimetype": "text/x-python",
   "name": "python",
   "nbconvert_exporter": "python",
   "pygments_lexer": "ipython3",
   "version": "3.6.4"
  }
 },
 "nbformat": 4,
 "nbformat_minor": 2
}
