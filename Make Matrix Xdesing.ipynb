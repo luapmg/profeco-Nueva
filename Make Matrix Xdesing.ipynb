{
 "cells": [
  {
   "cell_type": "markdown",
   "metadata": {},
   "source": [
    "<h1> Comenzamos en Python prueba antes realizada en Azure </h1>"
   ]
  },
  {
   "cell_type": "markdown",
   "metadata": {},
   "source": [
    "<p>Importar Librerias</p>"
   ]
  },
  {
   "cell_type": "code",
   "execution_count": 1,
   "metadata": {},
   "outputs": [],
   "source": [
    "import pandas as pd\n",
    "import numpy as np\n",
    "from sklearn.neural_network import MLPRegressor\n",
    "import csv\n",
    "from sklearn.preprocessing import LabelBinarizer"
   ]
  },
  {
   "cell_type": "markdown",
   "metadata": {},
   "source": [
    "<p>Cargamos los datos</p>"
   ]
  },
  {
   "cell_type": "code",
   "execution_count": 3,
   "metadata": {},
   "outputs": [],
   "source": [
    "df = pd.read_csv('/media/luap/Enlace/Nuevas Tablas Profeco 2016/prueba_basicos_2016.csv', header=0)\n",
    "y_train = df.iloc[:, 10].values\n",
    "X_train = df.iloc[:, 0:10].values"
   ]
  },
  {
   "cell_type": "markdown",
   "metadata": {},
   "source": [
    "<b>Comenzamos a Procesar los Datos</b>\n",
    "<p>Convertimos las string a tipo datetime con pandas</p>"
   ]
  },
  {
   "cell_type": "code",
   "execution_count": 4,
   "metadata": {},
   "outputs": [],
   "source": [
    "df['fechaRegistro'] = pd.to_datetime(df['fechaRegistro'], format='%d/%m/%Y %H:%M')"
   ]
  },
  {
   "cell_type": "markdown",
   "metadata": {},
   "source": [
    "<b>Comenzando a tratar las fechas</b>\n",
    "<p>Creamos nuevas variables a partir de las fechas mediante pandas</p>"
   ]
  },
  {
   "cell_type": "code",
   "execution_count": 5,
   "metadata": {},
   "outputs": [],
   "source": [
    "datetimes = df['fechaRegistro']\n",
    "over_time = pd.DataFrame({'year': datetimes.dt.year,\n",
    "                          \"month\": datetimes.dt.month,\n",
    "                          \"day\": datetimes.dt.day,\n",
    "                          \"dayofweek\": datetimes.dt.dayofweek,\n",
    "                          \"dayofyear\": datetimes.dt.dayofyear,\n",
    "                          \"weekofyear\": datetimes.dt.weekofyear,\n",
    "                          \"quarter\": datetimes.dt.quarter,\n",
    "                         })"
   ]
  },
  {
   "cell_type": "code",
   "execution_count": 6,
   "metadata": {},
   "outputs": [],
   "source": [
    "time = []\n",
    "for i in range(0, len(datetimes)):\n",
    "    time.append([over_time['year'][i], over_time['month'][i], over_time['day'][i], over_time['dayofweek'][i], \n",
    "                 over_time['dayofyear'][i], over_time['weekofyear'][i], over_time['quarter'][i]])"
   ]
  },
  {
   "cell_type": "code",
   "execution_count": 7,
   "metadata": {},
   "outputs": [
    {
     "data": {
      "text/plain": [
       "[RangeIndex(start=0, stop=177763, step=1),\n",
       " Index(['presentacion', 'marca', 'categoria', 'catalogo', 'cadenaComercial',\n",
       "        'giro', 'direccion', 'estado', 'municipio', 'fechaRegistro', 'precio'],\n",
       "       dtype='object')]"
      ]
     },
     "execution_count": 7,
     "metadata": {},
     "output_type": "execute_result"
    }
   ],
   "source": [
    "df.axes"
   ]
  },
  {
   "cell_type": "markdown",
   "metadata": {},
   "source": [
    "<b>Metemos todas las variables a columnas indicadas por las cabeceras de la base de datos</b>\n",
    "<p>Hacemos uso de diccionarios y de nuevo de el DataFrame de pandas</p>"
   ]
  },
  {
   "cell_type": "code",
   "execution_count": 8,
   "metadata": {},
   "outputs": [],
   "source": [
    "column = {}\n",
    "for i in range(0, len(df.axes[1])-2):\n",
    "    column[df.axes[1][i]] = X_train[:, i]"
   ]
  },
  {
   "cell_type": "markdown",
   "metadata": {},
   "source": [
    "<b>Binarizamos todas las columnas que son strings y se trataran como etiquetas</b>\n",
    "<ul>\n",
    "  <li>Hacemos uso de Herramientas de sklearn.preprocessing</li>\n",
    "  <li>Seguimos usando el DataFrame de pandas para el manejo de las columnas</li>\n",
    "</ul>"
   ]
  },
  {
   "cell_type": "code",
   "execution_count": 9,
   "metadata": {},
   "outputs": [],
   "source": [
    "binarized_column = {}\n",
    "lb = LabelBinarizer()\n",
    "for i in range(0, len(df.axes[1])-2):\n",
    "    binarized_column[df.axes[1][i]] = lb.fit_transform(column[df.axes[1][i]]).tolist()"
   ]
  },
  {
   "cell_type": "markdown",
   "metadata": {},
   "source": [
    "<b>Creamos la matriz de Diseño</b>"
   ]
  },
  {
   "cell_type": "code",
   "execution_count": 10,
   "metadata": {},
   "outputs": [],
   "source": [
    "Xdesing = []\n",
    "for i in range(0, len(X_train)):\n",
    "    Xdesing.append(binarized_column['presentacion'][i]+ binarized_column['marca'][i] +binarized_column['categoria'][i] \n",
    "                  + binarized_column['catalogo'][i] + binarized_column['cadenaComercial'][i] + binarized_column['giro'][i]\n",
    "                  + binarized_column['direccion'][i] + binarized_column['estado'][i] + binarized_column['municipio'][i] \n",
    "                  + time[i])\n",
    "Xdesing = np.asarray(Xdesing)\n",
    "y = np.asarray(y_train)"
   ]
  },
  {
   "cell_type": "code",
   "execution_count": 11,
   "metadata": {},
   "outputs": [
    {
     "data": {
      "text/plain": [
       "(177763, 987)"
      ]
     },
     "execution_count": 11,
     "metadata": {},
     "output_type": "execute_result"
    }
   ],
   "source": [
    "Xdesing.shape"
   ]
  },
  {
   "cell_type": "code",
   "execution_count": 14,
   "metadata": {},
   "outputs": [],
   "source": [
    "import csv\n",
    "with open('/home/luap/Documentos/Proyecto Profeco/Archivos de Proyecto Profeco/Xdesing_.csv', 'w') as csvfile:\n",
    "    spamwriter = csv.writer(csvfile, delimiter=',',\n",
    "                            quotechar='|', quoting=csv.QUOTE_MINIMAL)\n",
    "    for row in Xdesing:\n",
    "        spamwriter.writerow(row)"
   ]
  }
 ],
 "metadata": {
  "kernelspec": {
   "display_name": "Python 3",
   "language": "python",
   "name": "python3"
  },
  "language_info": {
   "codemirror_mode": {
    "name": "ipython",
    "version": 3
   },
   "file_extension": ".py",
   "mimetype": "text/x-python",
   "name": "python",
   "nbconvert_exporter": "python",
   "pygments_lexer": "ipython3",
   "version": "3.6.4"
  }
 },
 "nbformat": 4,
 "nbformat_minor": 2
}
